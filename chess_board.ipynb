{
 "cells": [
  {
   "cell_type": "markdown",
   "metadata": {},
   "source": [
    "# Chess Board"
   ]
  },
  {
   "cell_type": "code",
   "execution_count": 88,
   "metadata": {},
   "outputs": [],
   "source": [
    "import numpy as np\n",
    "%matplotlib inline\n",
    "import matplotlib.pyplot as plt"
   ]
  },
  {
   "cell_type": "code",
   "execution_count": 89,
   "metadata": {},
   "outputs": [],
   "source": [
    "class ChessBoard:\n",
    "\n",
    "    def __init__(self):\n",
    "        self.board = np.zeros([8,8,3])\n",
    "        for i in np.ndindex(8,8):\n",
    "            row = i[0]\n",
    "            col = i[1]\n",
    "            if row%2 == col%2:\n",
    "                self.board[row,col]=[1,1,1]\n",
    "            # print(i,self.board[i])\n",
    "\n",
    "    def add_red(self,row,col):\n",
    "        self.board[row,col] = (1,.2,0)\n",
    "        self.red = [row,col]\n",
    "\n",
    "    def add_blue(self,row,col):\n",
    "        self.board[row,col] = (0,1,1)\n",
    "        self.blue = [row,col]\n",
    "\n",
    "    def render(self):\n",
    "        plt.imshow(self.board)\n",
    "\n",
    "    def is_under_attack(self):\n",
    "        if self.red[0] == self.blue[0] or self.red[1] == self.blue[1]:\n",
    "            return True\n",
    "        elif abs(self.blue[0]-self.red[0]) == abs(self.blue[1]-self.red[1]):\n",
    "            return True\n",
    "        return False"
   ]
  },
  {
   "cell_type": "code",
   "execution_count": 90,
   "metadata": {},
   "outputs": [],
   "source": [
    "board = ChessBoard()"
   ]
  },
  {
   "cell_type": "code",
   "execution_count": 91,
   "metadata": {},
   "outputs": [
    {
     "data": {
      "image/png": "[encoded data removed]",
      "text/plain": [
       "<Figure size 432x288 with 1 Axes>"
      ]
     },
     "metadata": {
      "needs_background": "light"
     },
     "output_type": "display_data"
    }
   ],
   "source": [
    "board.render()"
   ]
  },
  {
   "cell_type": "code",
   "execution_count": 92,
   "metadata": {},
   "outputs": [
    {
     "data": {
      "image/png": "[encoded data removed]",
      "text/plain": [
       "<Figure size 432x288 with 1 Axes>"
      ]
     },
     "metadata": {
      "needs_background": "light"
     },
     "output_type": "display_data"
    }
   ],
   "source": [
    "board.add_red(0,4)\n",
    "board.add_blue(7,3)\n",
    "board.render()"
   ]
  },
  {
   "cell_type": "code",
   "execution_count": 101,
   "metadata": {},
   "outputs": [
    {
     "data": {
      "image/png": "[encoded data removed]",
      "text/plain": [
       "<Figure size 432x288 with 1 Axes>"
      ]
     },
     "metadata": {
      "needs_background": "light"
     },
     "output_type": "display_data"
    }
   ],
   "source": [
    "board1 = ChessBoard()\n",
    "board1.add_red(0,4)\n",
    "board1.add_blue(1,3)\n",
    "board1.render()\n",
    "# board1.is_under_attack()\n",
    "assert board1.is_under_attack()==True\n"
   ]
  },
  {
   "cell_type": "code",
   "execution_count": 102,
   "metadata": {},
   "outputs": [
    {
     "data": {
      "image/png": "[encoded data removed]",
      "text/plain": [
       "<Figure size 432x288 with 1 Axes>"
      ]
     },
     "metadata": {
      "needs_background": "light"
     },
     "output_type": "display_data"
    }
   ],
   "source": [
    "board2 = ChessBoard()\n",
    "board2.add_red(0,4)\n",
    "board2.add_blue(2,4)\n",
    "board2.render()\n",
    "assert board2.is_under_attack()==True"
   ]
  },
  {
   "cell_type": "code",
   "execution_count": 103,
   "metadata": {},
   "outputs": [
    {
     "data": {
      "image/png": "[encoded data removed]",
      "text/plain": [
       "<Figure size 432x288 with 1 Axes>"
      ]
     },
     "metadata": {
      "needs_background": "light"
     },
     "output_type": "display_data"
    }
   ],
   "source": [
    "board3 = ChessBoard()\n",
    "board3.add_red(2,4)\n",
    "board3.add_blue(2,3)\n",
    "board3.render()\n",
    "assert board3.is_under_attack()==True"
   ]
  },
  {
   "cell_type": "code",
   "execution_count": 104,
   "metadata": {},
   "outputs": [
    {
     "data": {
      "image/png": "[encoded data removed]",
      "text/plain": [
       "<Figure size 432x288 with 1 Axes>"
      ]
     },
     "metadata": {
      "needs_background": "light"
     },
     "output_type": "display_data"
    }
   ],
   "source": [
    "board4 = ChessBoard()\n",
    "board4.add_red(0,4)\n",
    "board4.add_blue(2,3)\n",
    "board4.render()\n",
    "assert board4.is_under_attack()==False"
   ]
  }
 ],
 "metadata": {
  "interpreter": {
   "hash": "97da822a19f885d3130a4c572b01cca2bce8938bf9854bb669057332ffb5bc6e"
  },
  "kernelspec": {
   "display_name": "Python 3.9.5 64-bit ('.venv': poetry)",
   "language": "python",
   "name": "python3"
  },
  "language_info": {
   "codemirror_mode": {
    "name": "ipython",
    "version": 3
   },
   "file_extension": ".py",
   "mimetype": "text/x-python",
   "name": "python",
   "nbconvert_exporter": "python",
   "pygments_lexer": "ipython3",
   "version": "3.9.5"
  },
  "orig_nbformat": 4
 },
 "nbformat": 4,
 "nbformat_minor": 2
}
